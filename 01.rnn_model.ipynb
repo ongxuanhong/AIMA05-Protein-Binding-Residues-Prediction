{
 "cells": [
  {
   "cell_type": "code",
   "execution_count": 1,
   "metadata": {},
   "outputs": [],
   "source": [
    "import torch\n",
    "import torch.nn as nn"
   ]
  },
  {
   "cell_type": "code",
   "execution_count": 3,
   "metadata": {},
   "outputs": [
    {
     "data": {
      "text/plain": [
       "{'A': 1,\n",
       " 'C': 2,\n",
       " 'D': 3,\n",
       " 'E': 4,\n",
       " 'F': 5,\n",
       " 'G': 6,\n",
       " 'H': 7,\n",
       " 'I': 8,\n",
       " 'K': 9,\n",
       " 'L': 10,\n",
       " 'M': 11,\n",
       " 'N': 12,\n",
       " 'P': 13,\n",
       " 'Q': 14,\n",
       " 'R': 15,\n",
       " 'S': 16,\n",
       " 'T': 17,\n",
       " 'V': 18,\n",
       " 'W': 19,\n",
       " 'Y': 20}"
      ]
     },
     "execution_count": 3,
     "metadata": {},
     "output_type": "execute_result"
    }
   ],
   "source": [
    "# 20 amino acids\n",
    "aa_vocab = {aa: idx+1 for idx, aa in enumerate('ACDEFGHIKLMNPQRSTVWY')}\n",
    "aa_vocab"
   ]
  },
  {
   "cell_type": "code",
   "execution_count": 10,
   "metadata": {},
   "outputs": [
    {
     "data": {
      "text/plain": [
       "Embedding(21, 4)"
      ]
     },
     "execution_count": 10,
     "metadata": {},
     "output_type": "execute_result"
    }
   ],
   "source": [
    "# Embedding layer\n",
    "vocab_size = len(aa_vocab) + 1\n",
    "embed_dim = 4\n",
    "embedding = nn.Embedding(vocab_size, embed_dim)\n",
    "embedding"
   ]
  },
  {
   "cell_type": "code",
   "execution_count": 11,
   "metadata": {},
   "outputs": [
    {
     "data": {
      "text/plain": [
       "Parameter containing:\n",
       "tensor([[-0.5873,  0.0519,  0.6103,  0.2894],\n",
       "        [-0.6764, -1.8091,  2.2003,  1.3079],\n",
       "        [ 0.3816,  0.0049, -0.2227, -1.8538],\n",
       "        [-0.5191, -1.3231, -0.2264,  1.3159],\n",
       "        [ 0.3298,  0.1247, -0.5189,  0.4930],\n",
       "        [ 0.6082, -0.3877, -0.8382, -0.1560],\n",
       "        [ 0.4607, -0.9498,  3.1584, -0.5680],\n",
       "        [-0.0421,  0.3698,  1.4770,  2.1518],\n",
       "        [ 0.6863, -1.1343,  0.2274,  1.2098],\n",
       "        [-1.8810, -1.2391, -1.6031,  1.0896],\n",
       "        [-1.5637,  1.0234,  0.5173, -0.7620],\n",
       "        [-0.6557,  0.3744,  0.5199, -0.1586],\n",
       "        [ 2.7932,  0.9437,  0.1121, -0.1801],\n",
       "        [-0.0768,  0.4806, -0.6332, -1.9728],\n",
       "        [ 1.2708, -0.7384,  0.6381,  0.9023],\n",
       "        [-0.2698, -1.1203,  0.6834,  0.1187],\n",
       "        [ 0.1142, -0.6247,  0.8377,  0.8426],\n",
       "        [ 0.0824,  1.2932,  0.1004, -0.0560],\n",
       "        [-1.2135,  2.2226, -0.3827,  1.5515],\n",
       "        [-2.4358,  1.7214, -1.5165, -1.3535],\n",
       "        [-0.7421,  0.6455,  0.0437, -0.1844]], requires_grad=True)"
      ]
     },
     "execution_count": 11,
     "metadata": {},
     "output_type": "execute_result"
    }
   ],
   "source": [
    "embedding.weight"
   ]
  },
  {
   "cell_type": "code",
   "execution_count": 12,
   "metadata": {},
   "outputs": [
    {
     "data": {
      "text/plain": [
       "[[11,\n",
       "  15,\n",
       "  16,\n",
       "  10,\n",
       "  10,\n",
       "  8,\n",
       "  10,\n",
       "  18,\n",
       "  10,\n",
       "  2,\n",
       "  5,\n",
       "  10,\n",
       "  13,\n",
       "  10,\n",
       "  1,\n",
       "  1,\n",
       "  10,\n",
       "  6,\n",
       "  9,\n",
       "  18,\n",
       "  5,\n",
       "  6,\n",
       "  15,\n",
       "  2,\n",
       "  4,\n",
       "  10,\n",
       "  1,\n",
       "  1,\n",
       "  1,\n",
       "  11,\n",
       "  9,\n",
       "  15,\n",
       "  7,\n",
       "  6,\n",
       "  10,\n",
       "  3,\n",
       "  12,\n",
       "  20,\n",
       "  15,\n",
       "  6,\n",
       "  20,\n",
       "  16,\n",
       "  10,\n",
       "  6,\n",
       "  12,\n",
       "  19,\n",
       "  18,\n",
       "  2,\n",
       "  1,\n",
       "  1,\n",
       "  9,\n",
       "  5,\n",
       "  4,\n",
       "  16,\n",
       "  12,\n",
       "  5,\n",
       "  12,\n",
       "  17,\n",
       "  14,\n",
       "  1,\n",
       "  17,\n",
       "  12,\n",
       "  15,\n",
       "  12,\n",
       "  17,\n",
       "  3,\n",
       "  6,\n",
       "  16,\n",
       "  17,\n",
       "  3,\n",
       "  20,\n",
       "  6,\n",
       "  8,\n",
       "  10,\n",
       "  14,\n",
       "  8,\n",
       "  12,\n",
       "  16,\n",
       "  15,\n",
       "  19,\n",
       "  19,\n",
       "  2,\n",
       "  12,\n",
       "  3,\n",
       "  6,\n",
       "  15,\n",
       "  17,\n",
       "  13,\n",
       "  6,\n",
       "  16,\n",
       "  15,\n",
       "  12,\n",
       "  10,\n",
       "  2,\n",
       "  12,\n",
       "  8,\n",
       "  13,\n",
       "  2,\n",
       "  16,\n",
       "  1,\n",
       "  10,\n",
       "  10,\n",
       "  16,\n",
       "  16,\n",
       "  3,\n",
       "  8,\n",
       "  17,\n",
       "  1,\n",
       "  16,\n",
       "  18,\n",
       "  12,\n",
       "  2,\n",
       "  1,\n",
       "  9,\n",
       "  9,\n",
       "  8,\n",
       "  18,\n",
       "  16,\n",
       "  3,\n",
       "  6,\n",
       "  12,\n",
       "  6,\n",
       "  11,\n",
       "  12,\n",
       "  1,\n",
       "  19,\n",
       "  18,\n",
       "  1,\n",
       "  19,\n",
       "  15,\n",
       "  12,\n",
       "  15,\n",
       "  2,\n",
       "  9,\n",
       "  6,\n",
       "  17,\n",
       "  3,\n",
       "  18,\n",
       "  14,\n",
       "  1,\n",
       "  19,\n",
       "  8,\n",
       "  15,\n",
       "  6,\n",
       "  2,\n",
       "  15,\n",
       "  10]]"
      ]
     },
     "execution_count": 12,
     "metadata": {},
     "output_type": "execute_result"
    }
   ],
   "source": [
    "# prepare input\n",
    "ls_antigen = [\n",
    "    \"MRSLLILVLCFLPLAALGKVFGRCELAAAMKRHGLDNYRGYSLGNWVCAAKFESNFNTQATNRNTDGSTDYGILQINSRWWCNDGRTPGSRNLCNIPCSALLSSDITASVNCAKKIVSDGNGMNAWVAWRNRCKGTDVQAWIRGCRL\"    \n",
    "]\n",
    "X = [[aa_vocab.get(aa, 0) for aa in seq] for seq in ls_antigen]\n",
    "X"
   ]
  },
  {
   "cell_type": "code",
   "execution_count": 32,
   "metadata": {},
   "outputs": [
    {
     "name": "stdout",
     "output_type": "stream",
     "text": [
      "Length of first sequence: 147\n"
     ]
    }
   ],
   "source": [
    "first_seq = X[0]\n",
    "print(\"Length of first sequence:\", len(first_seq))"
   ]
  },
  {
   "cell_type": "code",
   "execution_count": null,
   "metadata": {},
   "outputs": [],
   "source": []
  },
  {
   "cell_type": "code",
   "execution_count": 25,
   "metadata": {},
   "outputs": [
    {
     "data": {
      "text/plain": [
       "tensor([[[-0.6557,  0.3744,  0.5199, -0.1586],\n",
       "         [-0.2698, -1.1203,  0.6834,  0.1187],\n",
       "         [ 0.1142, -0.6247,  0.8377,  0.8426],\n",
       "         [-1.5637,  1.0234,  0.5173, -0.7620],\n",
       "         [-1.5637,  1.0234,  0.5173, -0.7620],\n",
       "         [ 0.6863, -1.1343,  0.2274,  1.2098],\n",
       "         [-1.5637,  1.0234,  0.5173, -0.7620],\n",
       "         [-1.2135,  2.2226, -0.3827,  1.5515],\n",
       "         [-1.5637,  1.0234,  0.5173, -0.7620],\n",
       "         [ 0.3816,  0.0049, -0.2227, -1.8538],\n",
       "         [ 0.6082, -0.3877, -0.8382, -0.1560],\n",
       "         [-1.5637,  1.0234,  0.5173, -0.7620],\n",
       "         [-0.0768,  0.4806, -0.6332, -1.9728],\n",
       "         [-1.5637,  1.0234,  0.5173, -0.7620],\n",
       "         [-0.6764, -1.8091,  2.2003,  1.3079],\n",
       "         [-0.6764, -1.8091,  2.2003,  1.3079],\n",
       "         [-1.5637,  1.0234,  0.5173, -0.7620],\n",
       "         [ 0.4607, -0.9498,  3.1584, -0.5680],\n",
       "         [-1.8810, -1.2391, -1.6031,  1.0896],\n",
       "         [-1.2135,  2.2226, -0.3827,  1.5515],\n",
       "         [ 0.6082, -0.3877, -0.8382, -0.1560],\n",
       "         [ 0.4607, -0.9498,  3.1584, -0.5680],\n",
       "         [-0.2698, -1.1203,  0.6834,  0.1187],\n",
       "         [ 0.3816,  0.0049, -0.2227, -1.8538],\n",
       "         [ 0.3298,  0.1247, -0.5189,  0.4930],\n",
       "         [-1.5637,  1.0234,  0.5173, -0.7620],\n",
       "         [-0.6764, -1.8091,  2.2003,  1.3079],\n",
       "         [-0.6764, -1.8091,  2.2003,  1.3079],\n",
       "         [-0.6764, -1.8091,  2.2003,  1.3079],\n",
       "         [-0.6557,  0.3744,  0.5199, -0.1586],\n",
       "         [-1.8810, -1.2391, -1.6031,  1.0896],\n",
       "         [-0.2698, -1.1203,  0.6834,  0.1187],\n",
       "         [-0.0421,  0.3698,  1.4770,  2.1518],\n",
       "         [ 0.4607, -0.9498,  3.1584, -0.5680],\n",
       "         [-1.5637,  1.0234,  0.5173, -0.7620],\n",
       "         [-0.5191, -1.3231, -0.2264,  1.3159],\n",
       "         [ 2.7932,  0.9437,  0.1121, -0.1801],\n",
       "         [-0.7421,  0.6455,  0.0437, -0.1844],\n",
       "         [-0.2698, -1.1203,  0.6834,  0.1187],\n",
       "         [ 0.4607, -0.9498,  3.1584, -0.5680],\n",
       "         [-0.7421,  0.6455,  0.0437, -0.1844],\n",
       "         [ 0.1142, -0.6247,  0.8377,  0.8426],\n",
       "         [-1.5637,  1.0234,  0.5173, -0.7620],\n",
       "         [ 0.4607, -0.9498,  3.1584, -0.5680],\n",
       "         [ 2.7932,  0.9437,  0.1121, -0.1801],\n",
       "         [-2.4358,  1.7214, -1.5165, -1.3535],\n",
       "         [-1.2135,  2.2226, -0.3827,  1.5515],\n",
       "         [ 0.3816,  0.0049, -0.2227, -1.8538],\n",
       "         [-0.6764, -1.8091,  2.2003,  1.3079],\n",
       "         [-0.6764, -1.8091,  2.2003,  1.3079],\n",
       "         [-1.8810, -1.2391, -1.6031,  1.0896],\n",
       "         [ 0.6082, -0.3877, -0.8382, -0.1560],\n",
       "         [ 0.3298,  0.1247, -0.5189,  0.4930],\n",
       "         [ 0.1142, -0.6247,  0.8377,  0.8426],\n",
       "         [ 2.7932,  0.9437,  0.1121, -0.1801],\n",
       "         [ 0.6082, -0.3877, -0.8382, -0.1560],\n",
       "         [ 2.7932,  0.9437,  0.1121, -0.1801],\n",
       "         [ 0.0824,  1.2932,  0.1004, -0.0560],\n",
       "         [ 1.2708, -0.7384,  0.6381,  0.9023],\n",
       "         [-0.6764, -1.8091,  2.2003,  1.3079],\n",
       "         [ 0.0824,  1.2932,  0.1004, -0.0560],\n",
       "         [ 2.7932,  0.9437,  0.1121, -0.1801],\n",
       "         [-0.2698, -1.1203,  0.6834,  0.1187],\n",
       "         [ 2.7932,  0.9437,  0.1121, -0.1801],\n",
       "         [ 0.0824,  1.2932,  0.1004, -0.0560],\n",
       "         [-0.5191, -1.3231, -0.2264,  1.3159],\n",
       "         [ 0.4607, -0.9498,  3.1584, -0.5680],\n",
       "         [ 0.1142, -0.6247,  0.8377,  0.8426],\n",
       "         [ 0.0824,  1.2932,  0.1004, -0.0560],\n",
       "         [-0.5191, -1.3231, -0.2264,  1.3159],\n",
       "         [-0.7421,  0.6455,  0.0437, -0.1844],\n",
       "         [ 0.4607, -0.9498,  3.1584, -0.5680],\n",
       "         [ 0.6863, -1.1343,  0.2274,  1.2098],\n",
       "         [-1.5637,  1.0234,  0.5173, -0.7620],\n",
       "         [ 1.2708, -0.7384,  0.6381,  0.9023],\n",
       "         [ 0.6863, -1.1343,  0.2274,  1.2098],\n",
       "         [ 2.7932,  0.9437,  0.1121, -0.1801],\n",
       "         [ 0.1142, -0.6247,  0.8377,  0.8426],\n",
       "         [-0.2698, -1.1203,  0.6834,  0.1187],\n",
       "         [-2.4358,  1.7214, -1.5165, -1.3535],\n",
       "         [-2.4358,  1.7214, -1.5165, -1.3535],\n",
       "         [ 0.3816,  0.0049, -0.2227, -1.8538],\n",
       "         [ 2.7932,  0.9437,  0.1121, -0.1801],\n",
       "         [-0.5191, -1.3231, -0.2264,  1.3159],\n",
       "         [ 0.4607, -0.9498,  3.1584, -0.5680],\n",
       "         [-0.2698, -1.1203,  0.6834,  0.1187],\n",
       "         [ 0.0824,  1.2932,  0.1004, -0.0560],\n",
       "         [-0.0768,  0.4806, -0.6332, -1.9728],\n",
       "         [ 0.4607, -0.9498,  3.1584, -0.5680],\n",
       "         [ 0.1142, -0.6247,  0.8377,  0.8426],\n",
       "         [-0.2698, -1.1203,  0.6834,  0.1187],\n",
       "         [ 2.7932,  0.9437,  0.1121, -0.1801],\n",
       "         [-1.5637,  1.0234,  0.5173, -0.7620],\n",
       "         [ 0.3816,  0.0049, -0.2227, -1.8538],\n",
       "         [ 2.7932,  0.9437,  0.1121, -0.1801],\n",
       "         [ 0.6863, -1.1343,  0.2274,  1.2098],\n",
       "         [-0.0768,  0.4806, -0.6332, -1.9728],\n",
       "         [ 0.3816,  0.0049, -0.2227, -1.8538],\n",
       "         [ 0.1142, -0.6247,  0.8377,  0.8426],\n",
       "         [-0.6764, -1.8091,  2.2003,  1.3079],\n",
       "         [-1.5637,  1.0234,  0.5173, -0.7620],\n",
       "         [-1.5637,  1.0234,  0.5173, -0.7620],\n",
       "         [ 0.1142, -0.6247,  0.8377,  0.8426],\n",
       "         [ 0.1142, -0.6247,  0.8377,  0.8426],\n",
       "         [-0.5191, -1.3231, -0.2264,  1.3159],\n",
       "         [ 0.6863, -1.1343,  0.2274,  1.2098],\n",
       "         [ 0.0824,  1.2932,  0.1004, -0.0560],\n",
       "         [-0.6764, -1.8091,  2.2003,  1.3079],\n",
       "         [ 0.1142, -0.6247,  0.8377,  0.8426],\n",
       "         [-1.2135,  2.2226, -0.3827,  1.5515],\n",
       "         [ 2.7932,  0.9437,  0.1121, -0.1801],\n",
       "         [ 0.3816,  0.0049, -0.2227, -1.8538],\n",
       "         [-0.6764, -1.8091,  2.2003,  1.3079],\n",
       "         [-1.8810, -1.2391, -1.6031,  1.0896],\n",
       "         [-1.8810, -1.2391, -1.6031,  1.0896],\n",
       "         [ 0.6863, -1.1343,  0.2274,  1.2098],\n",
       "         [-1.2135,  2.2226, -0.3827,  1.5515],\n",
       "         [ 0.1142, -0.6247,  0.8377,  0.8426],\n",
       "         [-0.5191, -1.3231, -0.2264,  1.3159],\n",
       "         [ 0.4607, -0.9498,  3.1584, -0.5680],\n",
       "         [ 2.7932,  0.9437,  0.1121, -0.1801],\n",
       "         [ 0.4607, -0.9498,  3.1584, -0.5680],\n",
       "         [-0.6557,  0.3744,  0.5199, -0.1586],\n",
       "         [ 2.7932,  0.9437,  0.1121, -0.1801],\n",
       "         [-0.6764, -1.8091,  2.2003,  1.3079],\n",
       "         [-2.4358,  1.7214, -1.5165, -1.3535],\n",
       "         [-1.2135,  2.2226, -0.3827,  1.5515],\n",
       "         [-0.6764, -1.8091,  2.2003,  1.3079],\n",
       "         [-2.4358,  1.7214, -1.5165, -1.3535],\n",
       "         [-0.2698, -1.1203,  0.6834,  0.1187],\n",
       "         [ 2.7932,  0.9437,  0.1121, -0.1801],\n",
       "         [-0.2698, -1.1203,  0.6834,  0.1187],\n",
       "         [ 0.3816,  0.0049, -0.2227, -1.8538],\n",
       "         [-1.8810, -1.2391, -1.6031,  1.0896],\n",
       "         [ 0.4607, -0.9498,  3.1584, -0.5680],\n",
       "         [ 0.0824,  1.2932,  0.1004, -0.0560],\n",
       "         [-0.5191, -1.3231, -0.2264,  1.3159],\n",
       "         [-1.2135,  2.2226, -0.3827,  1.5515],\n",
       "         [ 1.2708, -0.7384,  0.6381,  0.9023],\n",
       "         [-0.6764, -1.8091,  2.2003,  1.3079],\n",
       "         [-2.4358,  1.7214, -1.5165, -1.3535],\n",
       "         [ 0.6863, -1.1343,  0.2274,  1.2098],\n",
       "         [-0.2698, -1.1203,  0.6834,  0.1187],\n",
       "         [ 0.4607, -0.9498,  3.1584, -0.5680],\n",
       "         [ 0.3816,  0.0049, -0.2227, -1.8538],\n",
       "         [-0.2698, -1.1203,  0.6834,  0.1187],\n",
       "         [-1.5637,  1.0234,  0.5173, -0.7620]]], grad_fn=<EmbeddingBackward0>)"
      ]
     },
     "execution_count": 25,
     "metadata": {},
     "output_type": "execute_result"
    }
   ],
   "source": [
    "data = torch.tensor(X)\n",
    "data_embedding = embedding(data)\n",
    "data_embedding"
   ]
  },
  {
   "cell_type": "code",
   "execution_count": 26,
   "metadata": {},
   "outputs": [
    {
     "data": {
      "text/plain": [
       "tensor([-0.6557,  0.3744,  0.5199, -0.1586], grad_fn=<SelectBackward0>)"
      ]
     },
     "execution_count": 26,
     "metadata": {},
     "output_type": "execute_result"
    }
   ],
   "source": [
    "# convert index 11 into embedding vector\n",
    "embedding.weight[11]"
   ]
  },
  {
   "cell_type": "code",
   "execution_count": null,
   "metadata": {},
   "outputs": [],
   "source": []
  },
  {
   "cell_type": "code",
   "execution_count": 70,
   "metadata": {},
   "outputs": [
    {
     "data": {
      "text/plain": [
       "RNN(4, 3, batch_first=True)"
      ]
     },
     "execution_count": 70,
     "metadata": {},
     "output_type": "execute_result"
    }
   ],
   "source": [
    "embedding_dim = embed_dim\n",
    "hidden_size = 3\n",
    "activation = 'relu'\n",
    "\n",
    "model = nn.RNN(\n",
    "    input_size=embedding_dim,\n",
    "    hidden_size=hidden_size,\n",
    "    nonlinearity=activation,\n",
    "    num_layers=1,\n",
    "    batch_first=True\n",
    ")\n",
    "model"
   ]
  },
  {
   "cell_type": "code",
   "execution_count": 71,
   "metadata": {},
   "outputs": [
    {
     "data": {
      "text/plain": [
       "[[Parameter containing:\n",
       "  tensor([[-0.0243,  0.4623, -0.1535, -0.3986],\n",
       "          [ 0.2416, -0.3817, -0.4245,  0.5147],\n",
       "          [-0.5552, -0.1860,  0.0031,  0.1289]], requires_grad=True),\n",
       "  Parameter containing:\n",
       "  tensor([[ 0.0467,  0.0692, -0.3441],\n",
       "          [-0.1571, -0.3797,  0.4840],\n",
       "          [-0.2029,  0.4749, -0.0158]], requires_grad=True),\n",
       "  Parameter containing:\n",
       "  tensor([-0.5697, -0.2317, -0.5073], requires_grad=True),\n",
       "  Parameter containing:\n",
       "  tensor([ 0.5400, -0.2625, -0.0516], requires_grad=True)]]"
      ]
     },
     "execution_count": 71,
     "metadata": {},
     "output_type": "execute_result"
    }
   ],
   "source": [
    "model.all_weights"
   ]
  },
  {
   "cell_type": "code",
   "execution_count": null,
   "metadata": {},
   "outputs": [],
   "source": []
  },
  {
   "cell_type": "code",
   "execution_count": 72,
   "metadata": {},
   "outputs": [
    {
     "name": "stdout",
     "output_type": "stream",
     "text": [
      "torch.Size([1, 147, 3])\n",
      "torch.Size([1, 1, 3])\n"
     ]
    }
   ],
   "source": [
    "rnn_output, rnn_hidden = model(data_embedding)\n",
    "\n",
    "# N, L, H_out. Where:\n",
    "# N: number of sample\n",
    "# L: number of layer stacking\n",
    "# H_out: number of hidden node output\n",
    "print(rnn_output.shape)\n",
    "\n",
    "# num_layers, N, H_out\n",
    "print(rnn_hidden.shape)"
   ]
  },
  {
   "cell_type": "code",
   "execution_count": 73,
   "metadata": {},
   "outputs": [
    {
     "data": {
      "text/plain": [
       "tensor([[[0.7057, 0.0000, 0.0221]]], grad_fn=<StackBackward0>)"
      ]
     },
     "execution_count": 73,
     "metadata": {},
     "output_type": "execute_result"
    }
   ],
   "source": [
    "# last hidden state\n",
    "rnn_hidden"
   ]
  },
  {
   "cell_type": "code",
   "execution_count": 74,
   "metadata": {},
   "outputs": [
    {
     "data": {
      "text/plain": [
       "tensor([[0.7057, 0.0000, 0.0221]], grad_fn=<SliceBackward0>)"
      ]
     },
     "execution_count": 74,
     "metadata": {},
     "output_type": "execute_result"
    }
   ],
   "source": [
    "# get last hidden state\n",
    "rnn_output[:, -1, :]"
   ]
  },
  {
   "cell_type": "code",
   "execution_count": 75,
   "metadata": {},
   "outputs": [
    {
     "data": {
      "text/plain": [
       "tensor([[[0.5703, 0.3785, 0.6810, 0.3735, 0.5928, 0.6167, 0.4568, 0.5601,\n",
       "          0.6758, 0.3803, 0.4608, 0.5179, 0.5644, 0.4597, 0.3931, 0.4220,\n",
       "          0.4773, 0.6169, 0.5211, 0.3572, 0.6580, 0.6852, 0.5031, 0.3722,\n",
       "          0.4301, 0.3472, 0.4625, 0.5662, 0.4520, 0.2919, 0.3886, 0.3047,\n",
       "          0.3674, 0.6143, 0.5066, 0.4158, 0.4480, 0.4995, 0.4982, 0.4774,\n",
       "          0.5923, 0.3710, 0.6067, 0.3303, 0.6038, 0.4736, 0.4102, 0.5074,\n",
       "          0.5153, 0.5463, 0.3488, 0.4076, 0.5550, 0.4194, 0.5493, 0.3982,\n",
       "          0.5372, 0.4596, 0.5305, 0.3865, 0.6841, 0.4672, 0.5620, 0.4128,\n",
       "          0.4365, 0.5005, 0.5210, 0.3367, 0.3837, 0.4848, 0.5411, 0.5640,\n",
       "          0.5313, 0.5289, 0.5919, 0.3060, 0.5600, 0.5154, 0.6225, 0.3753,\n",
       "          0.3118, 0.5615, 0.4404, 0.5385, 0.5718, 0.3315, 0.5828, 0.4163,\n",
       "          0.5551, 0.4403, 0.6488, 0.6853, 0.5856, 0.4515, 0.5333, 0.6020,\n",
       "          0.5931, 0.6878, 0.4875, 0.5514, 0.5378, 0.5607, 0.4153, 0.5304,\n",
       "          0.3959, 0.4543, 0.3094, 0.4892, 0.4342, 0.4244, 0.4672, 0.4720,\n",
       "          0.4688, 0.5000, 0.5464, 0.4881, 0.3312, 0.5163, 0.5662, 0.4564,\n",
       "          0.5142, 0.5351, 0.6353, 0.5934, 0.6843, 0.4546, 0.5320, 0.5714,\n",
       "          0.6853, 0.5502, 0.3545, 0.5306, 0.4915, 0.4468, 0.3658, 0.5247,\n",
       "          0.6497, 0.4830, 0.3817, 0.3353, 0.6154, 0.3969, 0.5117, 0.5252,\n",
       "          0.5447, 0.6603, 0.4674]]], grad_fn=<SigmoidBackward0>)"
      ]
     },
     "execution_count": 75,
     "metadata": {},
     "output_type": "execute_result"
    }
   ],
   "source": [
    "import torch.nn.functional as F\n",
    "\n",
    "# apply sigmoid \n",
    "num_residues = len(first_seq)\n",
    "fc = nn.Linear(hidden_size, num_residues)\n",
    "output = F.sigmoid(fc(rnn_hidden))\n",
    "output"
   ]
  },
  {
   "cell_type": "code",
   "execution_count": 76,
   "metadata": {},
   "outputs": [
    {
     "data": {
      "image/png": "[encoded data removed]",
      "text/plain": [
       "<Figure size 640x480 with 1 Axes>"
      ]
     },
     "metadata": {},
     "output_type": "display_data"
    }
   ],
   "source": [
    "# plot histogram\n",
    "import matplotlib.pyplot as plt\n",
    "plt.hist(output.detach().numpy().flatten())\n",
    "plt.show()"
   ]
  },
  {
   "cell_type": "code",
   "execution_count": null,
   "metadata": {},
   "outputs": [],
   "source": []
  },
  {
   "cell_type": "code",
   "execution_count": null,
   "metadata": {},
   "outputs": [],
   "source": []
  }
 ],
 "metadata": {
  "kernelspec": {
   "display_name": "AIMA05",
   "language": "python",
   "name": "python3"
  },
  "language_info": {
   "codemirror_mode": {
    "name": "ipython",
    "version": 3
   },
   "file_extension": ".py",
   "mimetype": "text/x-python",
   "name": "python",
   "nbconvert_exporter": "python",
   "pygments_lexer": "ipython3",
   "version": "3.10.16"
  }
 },
 "nbformat": 4,
 "nbformat_minor": 2
}
