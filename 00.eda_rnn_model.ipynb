{
 "cells": [
  {
   "cell_type": "code",
   "execution_count": 1,
   "metadata": {},
   "outputs": [],
   "source": [
    "import torch\n",
    "import torch.nn as nn"
   ]
  },
  {
   "cell_type": "code",
   "execution_count": 2,
   "metadata": {},
   "outputs": [
    {
     "data": {
      "text/plain": [
       "{'A': 1,\n",
       " 'C': 2,\n",
       " 'D': 3,\n",
       " 'E': 4,\n",
       " 'F': 5,\n",
       " 'G': 6,\n",
       " 'H': 7,\n",
       " 'I': 8,\n",
       " 'K': 9,\n",
       " 'L': 10,\n",
       " 'M': 11,\n",
       " 'N': 12,\n",
       " 'P': 13,\n",
       " 'Q': 14,\n",
       " 'R': 15,\n",
       " 'S': 16,\n",
       " 'T': 17,\n",
       " 'V': 18,\n",
       " 'W': 19,\n",
       " 'Y': 20}"
      ]
     },
     "execution_count": 2,
     "metadata": {},
     "output_type": "execute_result"
    }
   ],
   "source": [
    "# 20 amino acids\n",
    "aa_vocab = {aa: idx + 1 for idx, aa in enumerate(\"ACDEFGHIKLMNPQRSTVWY\")}\n",
    "aa_vocab"
   ]
  },
  {
   "cell_type": "code",
   "execution_count": 3,
   "metadata": {},
   "outputs": [
    {
     "data": {
      "text/plain": [
       "Embedding(21, 4)"
      ]
     },
     "execution_count": 3,
     "metadata": {},
     "output_type": "execute_result"
    }
   ],
   "source": [
    "# Embedding layer\n",
    "vocab_size = len(aa_vocab) + 1\n",
    "embed_dim = 4\n",
    "embedding = nn.Embedding(vocab_size, embed_dim)\n",
    "embedding"
   ]
  },
  {
   "cell_type": "code",
   "execution_count": 4,
   "metadata": {},
   "outputs": [
    {
     "data": {
      "text/plain": [
       "Parameter containing:\n",
       "tensor([[-0.7179, -0.5742, -0.8224,  0.8964],\n",
       "        [ 0.3927,  0.6357, -0.2765,  0.1044],\n",
       "        [-0.7926,  1.1134,  1.1092,  1.0299],\n",
       "        [ 0.6806,  0.9284,  1.3393,  0.7971],\n",
       "        [-0.2714,  0.0864,  0.0762, -0.7963],\n",
       "        [ 0.6474,  1.1945,  3.1246,  0.4971],\n",
       "        [-0.2595,  1.2252, -1.4151, -1.3117],\n",
       "        [ 0.9516, -0.8269, -2.0587,  1.3142],\n",
       "        [ 0.5659, -1.8497,  0.7947,  0.0511],\n",
       "        [ 1.1637, -0.3427,  0.5188,  1.0576],\n",
       "        [-0.0570, -0.2512, -0.6064,  1.9012],\n",
       "        [ 0.3495, -1.2607, -1.8316,  0.7134],\n",
       "        [ 0.4915, -0.0981, -0.2195,  1.0979],\n",
       "        [ 0.5717,  0.3328,  1.9540,  0.5295],\n",
       "        [ 1.1179,  0.0606, -1.5109, -0.5120],\n",
       "        [-0.0449, -0.5351, -0.4701,  1.7329],\n",
       "        [-1.7836,  1.6282, -0.8490,  0.1240],\n",
       "        [ 0.1812,  0.1511, -0.0124,  0.4956],\n",
       "        [-2.1150, -2.0327, -1.4164,  1.2968],\n",
       "        [ 0.9286, -0.4315, -0.1144, -0.0917],\n",
       "        [ 1.5701, -2.7100,  0.4474,  0.4666]], requires_grad=True)"
      ]
     },
     "execution_count": 4,
     "metadata": {},
     "output_type": "execute_result"
    }
   ],
   "source": [
    "embedding.weight"
   ]
  },
  {
   "cell_type": "code",
   "execution_count": 5,
   "metadata": {},
   "outputs": [
    {
     "data": {
      "text/plain": [
       "[[11,\n",
       "  15,\n",
       "  16,\n",
       "  10,\n",
       "  10,\n",
       "  8,\n",
       "  10,\n",
       "  18,\n",
       "  10,\n",
       "  2,\n",
       "  5,\n",
       "  10,\n",
       "  13,\n",
       "  10,\n",
       "  1,\n",
       "  1,\n",
       "  10,\n",
       "  6,\n",
       "  9,\n",
       "  18,\n",
       "  5,\n",
       "  6,\n",
       "  15,\n",
       "  2,\n",
       "  4,\n",
       "  10,\n",
       "  1,\n",
       "  1,\n",
       "  1,\n",
       "  11,\n",
       "  9,\n",
       "  15,\n",
       "  7,\n",
       "  6,\n",
       "  10,\n",
       "  3,\n",
       "  12,\n",
       "  20,\n",
       "  15,\n",
       "  6,\n",
       "  20,\n",
       "  16,\n",
       "  10,\n",
       "  6,\n",
       "  12,\n",
       "  19,\n",
       "  18,\n",
       "  2,\n",
       "  1,\n",
       "  1,\n",
       "  9,\n",
       "  5,\n",
       "  4,\n",
       "  16,\n",
       "  12,\n",
       "  5,\n",
       "  12,\n",
       "  17,\n",
       "  14,\n",
       "  1,\n",
       "  17,\n",
       "  12,\n",
       "  15,\n",
       "  12,\n",
       "  17,\n",
       "  3,\n",
       "  6,\n",
       "  16,\n",
       "  17,\n",
       "  3,\n",
       "  20,\n",
       "  6,\n",
       "  8,\n",
       "  10,\n",
       "  14,\n",
       "  8,\n",
       "  12,\n",
       "  16,\n",
       "  15,\n",
       "  19,\n",
       "  19,\n",
       "  2,\n",
       "  12,\n",
       "  3,\n",
       "  6,\n",
       "  15,\n",
       "  17,\n",
       "  13,\n",
       "  6,\n",
       "  16,\n",
       "  15,\n",
       "  12,\n",
       "  10,\n",
       "  2,\n",
       "  12,\n",
       "  8,\n",
       "  13,\n",
       "  2,\n",
       "  16,\n",
       "  1,\n",
       "  10,\n",
       "  10,\n",
       "  16,\n",
       "  16,\n",
       "  3,\n",
       "  8,\n",
       "  17,\n",
       "  1,\n",
       "  16,\n",
       "  18,\n",
       "  12,\n",
       "  2,\n",
       "  1,\n",
       "  9,\n",
       "  9,\n",
       "  8,\n",
       "  18,\n",
       "  16,\n",
       "  3,\n",
       "  6,\n",
       "  12,\n",
       "  6,\n",
       "  11,\n",
       "  12,\n",
       "  1,\n",
       "  19,\n",
       "  18,\n",
       "  1,\n",
       "  19,\n",
       "  15,\n",
       "  12,\n",
       "  15,\n",
       "  2,\n",
       "  9,\n",
       "  6,\n",
       "  17,\n",
       "  3,\n",
       "  18,\n",
       "  14,\n",
       "  1,\n",
       "  19,\n",
       "  8,\n",
       "  15,\n",
       "  6,\n",
       "  2,\n",
       "  15,\n",
       "  10]]"
      ]
     },
     "execution_count": 5,
     "metadata": {},
     "output_type": "execute_result"
    }
   ],
   "source": [
    "# prepare input\n",
    "ls_antigen = [\n",
    "    \"MRSLLILVLCFLPLAALGKVFGRCELAAAMKRHGLDNYRGYSLGNWVCAAKFESNFNTQATNRNTDGSTDYGILQINSRWWCNDGRTPGSRNLCNIPCSALLSSDITASVNCAKKIVSDGNGMNAWVAWRNRCKGTDVQAWIRGCRL\"\n",
    "]\n",
    "X = [[aa_vocab.get(aa, 0) for aa in seq] for seq in ls_antigen]\n",
    "X"
   ]
  },
  {
   "cell_type": "code",
   "execution_count": 6,
   "metadata": {},
   "outputs": [
    {
     "name": "stdout",
     "output_type": "stream",
     "text": [
      "Length of first sequence: 147\n"
     ]
    }
   ],
   "source": [
    "first_seq = X[0]\n",
    "print(\"Length of first sequence:\", len(first_seq))"
   ]
  },
  {
   "cell_type": "code",
   "execution_count": null,
   "metadata": {},
   "outputs": [],
   "source": []
  },
  {
   "cell_type": "code",
   "execution_count": 7,
   "metadata": {},
   "outputs": [
    {
     "data": {
      "text/plain": [
       "tensor([[[ 0.3495, -1.2607, -1.8316,  0.7134],\n",
       "         [-0.0449, -0.5351, -0.4701,  1.7329],\n",
       "         [-1.7836,  1.6282, -0.8490,  0.1240],\n",
       "         [-0.0570, -0.2512, -0.6064,  1.9012],\n",
       "         [-0.0570, -0.2512, -0.6064,  1.9012],\n",
       "         [ 0.5659, -1.8497,  0.7947,  0.0511],\n",
       "         [-0.0570, -0.2512, -0.6064,  1.9012],\n",
       "         [-2.1150, -2.0327, -1.4164,  1.2968],\n",
       "         [-0.0570, -0.2512, -0.6064,  1.9012],\n",
       "         [-0.7926,  1.1134,  1.1092,  1.0299],\n",
       "         [ 0.6474,  1.1945,  3.1246,  0.4971],\n",
       "         [-0.0570, -0.2512, -0.6064,  1.9012],\n",
       "         [ 0.5717,  0.3328,  1.9540,  0.5295],\n",
       "         [-0.0570, -0.2512, -0.6064,  1.9012],\n",
       "         [ 0.3927,  0.6357, -0.2765,  0.1044],\n",
       "         [ 0.3927,  0.6357, -0.2765,  0.1044],\n",
       "         [-0.0570, -0.2512, -0.6064,  1.9012],\n",
       "         [-0.2595,  1.2252, -1.4151, -1.3117],\n",
       "         [ 1.1637, -0.3427,  0.5188,  1.0576],\n",
       "         [-2.1150, -2.0327, -1.4164,  1.2968],\n",
       "         [ 0.6474,  1.1945,  3.1246,  0.4971],\n",
       "         [-0.2595,  1.2252, -1.4151, -1.3117],\n",
       "         [-0.0449, -0.5351, -0.4701,  1.7329],\n",
       "         [-0.7926,  1.1134,  1.1092,  1.0299],\n",
       "         [-0.2714,  0.0864,  0.0762, -0.7963],\n",
       "         [-0.0570, -0.2512, -0.6064,  1.9012],\n",
       "         [ 0.3927,  0.6357, -0.2765,  0.1044],\n",
       "         [ 0.3927,  0.6357, -0.2765,  0.1044],\n",
       "         [ 0.3927,  0.6357, -0.2765,  0.1044],\n",
       "         [ 0.3495, -1.2607, -1.8316,  0.7134],\n",
       "         [ 1.1637, -0.3427,  0.5188,  1.0576],\n",
       "         [-0.0449, -0.5351, -0.4701,  1.7329],\n",
       "         [ 0.9516, -0.8269, -2.0587,  1.3142],\n",
       "         [-0.2595,  1.2252, -1.4151, -1.3117],\n",
       "         [-0.0570, -0.2512, -0.6064,  1.9012],\n",
       "         [ 0.6806,  0.9284,  1.3393,  0.7971],\n",
       "         [ 0.4915, -0.0981, -0.2195,  1.0979],\n",
       "         [ 1.5701, -2.7100,  0.4474,  0.4666],\n",
       "         [-0.0449, -0.5351, -0.4701,  1.7329],\n",
       "         [-0.2595,  1.2252, -1.4151, -1.3117],\n",
       "         [ 1.5701, -2.7100,  0.4474,  0.4666],\n",
       "         [-1.7836,  1.6282, -0.8490,  0.1240],\n",
       "         [-0.0570, -0.2512, -0.6064,  1.9012],\n",
       "         [-0.2595,  1.2252, -1.4151, -1.3117],\n",
       "         [ 0.4915, -0.0981, -0.2195,  1.0979],\n",
       "         [ 0.9286, -0.4315, -0.1144, -0.0917],\n",
       "         [-2.1150, -2.0327, -1.4164,  1.2968],\n",
       "         [-0.7926,  1.1134,  1.1092,  1.0299],\n",
       "         [ 0.3927,  0.6357, -0.2765,  0.1044],\n",
       "         [ 0.3927,  0.6357, -0.2765,  0.1044],\n",
       "         [ 1.1637, -0.3427,  0.5188,  1.0576],\n",
       "         [ 0.6474,  1.1945,  3.1246,  0.4971],\n",
       "         [-0.2714,  0.0864,  0.0762, -0.7963],\n",
       "         [-1.7836,  1.6282, -0.8490,  0.1240],\n",
       "         [ 0.4915, -0.0981, -0.2195,  1.0979],\n",
       "         [ 0.6474,  1.1945,  3.1246,  0.4971],\n",
       "         [ 0.4915, -0.0981, -0.2195,  1.0979],\n",
       "         [ 0.1812,  0.1511, -0.0124,  0.4956],\n",
       "         [ 1.1179,  0.0606, -1.5109, -0.5120],\n",
       "         [ 0.3927,  0.6357, -0.2765,  0.1044],\n",
       "         [ 0.1812,  0.1511, -0.0124,  0.4956],\n",
       "         [ 0.4915, -0.0981, -0.2195,  1.0979],\n",
       "         [-0.0449, -0.5351, -0.4701,  1.7329],\n",
       "         [ 0.4915, -0.0981, -0.2195,  1.0979],\n",
       "         [ 0.1812,  0.1511, -0.0124,  0.4956],\n",
       "         [ 0.6806,  0.9284,  1.3393,  0.7971],\n",
       "         [-0.2595,  1.2252, -1.4151, -1.3117],\n",
       "         [-1.7836,  1.6282, -0.8490,  0.1240],\n",
       "         [ 0.1812,  0.1511, -0.0124,  0.4956],\n",
       "         [ 0.6806,  0.9284,  1.3393,  0.7971],\n",
       "         [ 1.5701, -2.7100,  0.4474,  0.4666],\n",
       "         [-0.2595,  1.2252, -1.4151, -1.3117],\n",
       "         [ 0.5659, -1.8497,  0.7947,  0.0511],\n",
       "         [-0.0570, -0.2512, -0.6064,  1.9012],\n",
       "         [ 1.1179,  0.0606, -1.5109, -0.5120],\n",
       "         [ 0.5659, -1.8497,  0.7947,  0.0511],\n",
       "         [ 0.4915, -0.0981, -0.2195,  1.0979],\n",
       "         [-1.7836,  1.6282, -0.8490,  0.1240],\n",
       "         [-0.0449, -0.5351, -0.4701,  1.7329],\n",
       "         [ 0.9286, -0.4315, -0.1144, -0.0917],\n",
       "         [ 0.9286, -0.4315, -0.1144, -0.0917],\n",
       "         [-0.7926,  1.1134,  1.1092,  1.0299],\n",
       "         [ 0.4915, -0.0981, -0.2195,  1.0979],\n",
       "         [ 0.6806,  0.9284,  1.3393,  0.7971],\n",
       "         [-0.2595,  1.2252, -1.4151, -1.3117],\n",
       "         [-0.0449, -0.5351, -0.4701,  1.7329],\n",
       "         [ 0.1812,  0.1511, -0.0124,  0.4956],\n",
       "         [ 0.5717,  0.3328,  1.9540,  0.5295],\n",
       "         [-0.2595,  1.2252, -1.4151, -1.3117],\n",
       "         [-1.7836,  1.6282, -0.8490,  0.1240],\n",
       "         [-0.0449, -0.5351, -0.4701,  1.7329],\n",
       "         [ 0.4915, -0.0981, -0.2195,  1.0979],\n",
       "         [-0.0570, -0.2512, -0.6064,  1.9012],\n",
       "         [-0.7926,  1.1134,  1.1092,  1.0299],\n",
       "         [ 0.4915, -0.0981, -0.2195,  1.0979],\n",
       "         [ 0.5659, -1.8497,  0.7947,  0.0511],\n",
       "         [ 0.5717,  0.3328,  1.9540,  0.5295],\n",
       "         [-0.7926,  1.1134,  1.1092,  1.0299],\n",
       "         [-1.7836,  1.6282, -0.8490,  0.1240],\n",
       "         [ 0.3927,  0.6357, -0.2765,  0.1044],\n",
       "         [-0.0570, -0.2512, -0.6064,  1.9012],\n",
       "         [-0.0570, -0.2512, -0.6064,  1.9012],\n",
       "         [-1.7836,  1.6282, -0.8490,  0.1240],\n",
       "         [-1.7836,  1.6282, -0.8490,  0.1240],\n",
       "         [ 0.6806,  0.9284,  1.3393,  0.7971],\n",
       "         [ 0.5659, -1.8497,  0.7947,  0.0511],\n",
       "         [ 0.1812,  0.1511, -0.0124,  0.4956],\n",
       "         [ 0.3927,  0.6357, -0.2765,  0.1044],\n",
       "         [-1.7836,  1.6282, -0.8490,  0.1240],\n",
       "         [-2.1150, -2.0327, -1.4164,  1.2968],\n",
       "         [ 0.4915, -0.0981, -0.2195,  1.0979],\n",
       "         [-0.7926,  1.1134,  1.1092,  1.0299],\n",
       "         [ 0.3927,  0.6357, -0.2765,  0.1044],\n",
       "         [ 1.1637, -0.3427,  0.5188,  1.0576],\n",
       "         [ 1.1637, -0.3427,  0.5188,  1.0576],\n",
       "         [ 0.5659, -1.8497,  0.7947,  0.0511],\n",
       "         [-2.1150, -2.0327, -1.4164,  1.2968],\n",
       "         [-1.7836,  1.6282, -0.8490,  0.1240],\n",
       "         [ 0.6806,  0.9284,  1.3393,  0.7971],\n",
       "         [-0.2595,  1.2252, -1.4151, -1.3117],\n",
       "         [ 0.4915, -0.0981, -0.2195,  1.0979],\n",
       "         [-0.2595,  1.2252, -1.4151, -1.3117],\n",
       "         [ 0.3495, -1.2607, -1.8316,  0.7134],\n",
       "         [ 0.4915, -0.0981, -0.2195,  1.0979],\n",
       "         [ 0.3927,  0.6357, -0.2765,  0.1044],\n",
       "         [ 0.9286, -0.4315, -0.1144, -0.0917],\n",
       "         [-2.1150, -2.0327, -1.4164,  1.2968],\n",
       "         [ 0.3927,  0.6357, -0.2765,  0.1044],\n",
       "         [ 0.9286, -0.4315, -0.1144, -0.0917],\n",
       "         [-0.0449, -0.5351, -0.4701,  1.7329],\n",
       "         [ 0.4915, -0.0981, -0.2195,  1.0979],\n",
       "         [-0.0449, -0.5351, -0.4701,  1.7329],\n",
       "         [-0.7926,  1.1134,  1.1092,  1.0299],\n",
       "         [ 1.1637, -0.3427,  0.5188,  1.0576],\n",
       "         [-0.2595,  1.2252, -1.4151, -1.3117],\n",
       "         [ 0.1812,  0.1511, -0.0124,  0.4956],\n",
       "         [ 0.6806,  0.9284,  1.3393,  0.7971],\n",
       "         [-2.1150, -2.0327, -1.4164,  1.2968],\n",
       "         [ 1.1179,  0.0606, -1.5109, -0.5120],\n",
       "         [ 0.3927,  0.6357, -0.2765,  0.1044],\n",
       "         [ 0.9286, -0.4315, -0.1144, -0.0917],\n",
       "         [ 0.5659, -1.8497,  0.7947,  0.0511],\n",
       "         [-0.0449, -0.5351, -0.4701,  1.7329],\n",
       "         [-0.2595,  1.2252, -1.4151, -1.3117],\n",
       "         [-0.7926,  1.1134,  1.1092,  1.0299],\n",
       "         [-0.0449, -0.5351, -0.4701,  1.7329],\n",
       "         [-0.0570, -0.2512, -0.6064,  1.9012]]], grad_fn=<EmbeddingBackward0>)"
      ]
     },
     "execution_count": 7,
     "metadata": {},
     "output_type": "execute_result"
    }
   ],
   "source": [
    "data = torch.tensor(X)\n",
    "data_embedding = embedding(data)\n",
    "data_embedding"
   ]
  },
  {
   "cell_type": "code",
   "execution_count": 8,
   "metadata": {},
   "outputs": [
    {
     "data": {
      "text/plain": [
       "tensor([ 0.3495, -1.2607, -1.8316,  0.7134], grad_fn=<SelectBackward0>)"
      ]
     },
     "execution_count": 8,
     "metadata": {},
     "output_type": "execute_result"
    }
   ],
   "source": [
    "# convert index 11 into embedding vector\n",
    "embedding.weight[11]"
   ]
  },
  {
   "cell_type": "code",
   "execution_count": null,
   "metadata": {},
   "outputs": [],
   "source": []
  },
  {
   "cell_type": "code",
   "execution_count": 9,
   "metadata": {},
   "outputs": [
    {
     "data": {
      "text/plain": [
       "RNN(4, 3, batch_first=True)"
      ]
     },
     "execution_count": 9,
     "metadata": {},
     "output_type": "execute_result"
    }
   ],
   "source": [
    "embedding_dim = embed_dim\n",
    "hidden_size = 3\n",
    "activation = \"relu\"\n",
    "\n",
    "model = nn.RNN(\n",
    "    input_size=embedding_dim,\n",
    "    hidden_size=hidden_size,\n",
    "    nonlinearity=activation,\n",
    "    num_layers=1,\n",
    "    batch_first=True,\n",
    ")\n",
    "model"
   ]
  },
  {
   "cell_type": "code",
   "execution_count": 10,
   "metadata": {},
   "outputs": [
    {
     "data": {
      "text/plain": [
       "[[Parameter containing:\n",
       "  tensor([[-0.0461,  0.3013, -0.1927,  0.0121],\n",
       "          [ 0.3821, -0.0498, -0.2428, -0.0565],\n",
       "          [ 0.2161,  0.1105, -0.1312,  0.3944]], requires_grad=True),\n",
       "  Parameter containing:\n",
       "  tensor([[ 0.3154,  0.1721, -0.0816],\n",
       "          [ 0.2546, -0.1153,  0.2702],\n",
       "          [-0.2182, -0.0277,  0.5032]], requires_grad=True),\n",
       "  Parameter containing:\n",
       "  tensor([-0.5216, -0.1074,  0.4779], requires_grad=True),\n",
       "  Parameter containing:\n",
       "  tensor([-0.5041, -0.2024,  0.5316], requires_grad=True)]]"
      ]
     },
     "execution_count": 10,
     "metadata": {},
     "output_type": "execute_result"
    }
   ],
   "source": [
    "model.all_weights"
   ]
  },
  {
   "cell_type": "code",
   "execution_count": null,
   "metadata": {},
   "outputs": [],
   "source": []
  },
  {
   "cell_type": "code",
   "execution_count": 11,
   "metadata": {},
   "outputs": [
    {
     "name": "stdout",
     "output_type": "stream",
     "text": [
      "torch.Size([1, 147, 3])\n",
      "torch.Size([1, 1, 3])\n"
     ]
    }
   ],
   "source": [
    "rnn_output, rnn_hidden = model(data_embedding)\n",
    "\n",
    "# N, L, H_out. Where:\n",
    "# N: number of sample\n",
    "# L: number of layer stacking\n",
    "# H_out: number of hidden node output\n",
    "print(rnn_output.shape)\n",
    "\n",
    "# num_layers, N, H_out\n",
    "print(rnn_hidden.shape)"
   ]
  },
  {
   "cell_type": "code",
   "execution_count": 12,
   "metadata": {},
   "outputs": [
    {
     "data": {
      "text/plain": [
       "tensor([[[0.0000, 0.4459, 3.2108]]], grad_fn=<StackBackward0>)"
      ]
     },
     "execution_count": 12,
     "metadata": {},
     "output_type": "execute_result"
    }
   ],
   "source": [
    "# last hidden state\n",
    "rnn_hidden"
   ]
  },
  {
   "cell_type": "code",
   "execution_count": 13,
   "metadata": {},
   "outputs": [
    {
     "data": {
      "text/plain": [
       "tensor([[0.0000, 0.4459, 3.2108]], grad_fn=<SliceBackward0>)"
      ]
     },
     "execution_count": 13,
     "metadata": {},
     "output_type": "execute_result"
    }
   ],
   "source": [
    "# get last hidden state\n",
    "rnn_output[:, -1, :]"
   ]
  },
  {
   "cell_type": "code",
   "execution_count": 26,
   "metadata": {},
   "outputs": [
    {
     "data": {
      "text/plain": [
       "tensor([[[0.5391],\n",
       "         [0.5819],\n",
       "         [0.5665],\n",
       "         [0.6148],\n",
       "         [0.6380],\n",
       "         [0.6037],\n",
       "         [0.6214],\n",
       "         [0.5867],\n",
       "         [0.6271],\n",
       "         [0.5970],\n",
       "         [0.5811],\n",
       "         [0.6245],\n",
       "         [0.5965],\n",
       "         [0.6299],\n",
       "         [0.6223],\n",
       "         [0.6097],\n",
       "         [0.6277],\n",
       "         [0.5999],\n",
       "         [0.6123],\n",
       "         [0.5771],\n",
       "         [0.5710],\n",
       "         [0.5716],\n",
       "         [0.5958],\n",
       "         [0.5855],\n",
       "         [0.5630],\n",
       "         [0.6039],\n",
       "         [0.6105],\n",
       "         [0.6038],\n",
       "         [0.6015],\n",
       "         [0.6264],\n",
       "         [0.6256],\n",
       "         [0.6313],\n",
       "         [0.6771],\n",
       "         [0.6078],\n",
       "         [0.6211],\n",
       "         [0.6158],\n",
       "         [0.6320],\n",
       "         [0.6287],\n",
       "         [0.6208],\n",
       "         [0.5965],\n",
       "         [0.6014],\n",
       "         [0.5621],\n",
       "         [0.6119],\n",
       "         [0.5912],\n",
       "         [0.6047],\n",
       "         [0.6086],\n",
       "         [0.5700],\n",
       "         [0.5756],\n",
       "         [0.5974],\n",
       "         [0.5973],\n",
       "         [0.6186],\n",
       "         [0.5812],\n",
       "         [0.5600],\n",
       "         [0.5516],\n",
       "         [0.5983],\n",
       "         [0.5743],\n",
       "         [0.6134],\n",
       "         [0.6044],\n",
       "         [0.6276],\n",
       "         [0.5986],\n",
       "         [0.5964],\n",
       "         [0.6179],\n",
       "         [0.6285],\n",
       "         [0.6377],\n",
       "         [0.6167],\n",
       "         [0.6073],\n",
       "         [0.5895],\n",
       "         [0.5587],\n",
       "         [0.5820],\n",
       "         [0.5898],\n",
       "         [0.6146],\n",
       "         [0.5729],\n",
       "         [0.5572],\n",
       "         [0.6006],\n",
       "         [0.6316],\n",
       "         [0.5767],\n",
       "         [0.6043],\n",
       "         [0.5716],\n",
       "         [0.6122],\n",
       "         [0.6153],\n",
       "         [0.6030],\n",
       "         [0.5789],\n",
       "         [0.6164],\n",
       "         [0.6061],\n",
       "         [0.5890],\n",
       "         [0.6042],\n",
       "         [0.6064],\n",
       "         [0.5820],\n",
       "         [0.5776],\n",
       "         [0.5541],\n",
       "         [0.6006],\n",
       "         [0.6239],\n",
       "         [0.6368],\n",
       "         [0.6013],\n",
       "         [0.6313],\n",
       "         [0.5938],\n",
       "         [0.5720],\n",
       "         [0.5767],\n",
       "         [0.5654],\n",
       "         [0.5905],\n",
       "         [0.6176],\n",
       "         [0.6402],\n",
       "         [0.5888],\n",
       "         [0.5715],\n",
       "         [0.5909],\n",
       "         [0.5802],\n",
       "         [0.5825],\n",
       "         [0.5948],\n",
       "         [0.5655],\n",
       "         [0.5630],\n",
       "         [0.6059],\n",
       "         [0.5852],\n",
       "         [0.6038],\n",
       "         [0.6205],\n",
       "         [0.6310],\n",
       "         [0.5930],\n",
       "         [0.5666],\n",
       "         [0.5603],\n",
       "         [0.5833],\n",
       "         [0.5773],\n",
       "         [0.5979],\n",
       "         [0.5799],\n",
       "         [0.6091],\n",
       "         [0.6144],\n",
       "         [0.6104],\n",
       "         [0.6071],\n",
       "         [0.5697],\n",
       "         [0.5934],\n",
       "         [0.5982],\n",
       "         [0.6101],\n",
       "         [0.6297],\n",
       "         [0.6337],\n",
       "         [0.5994],\n",
       "         [0.6335],\n",
       "         [0.5935],\n",
       "         [0.5857],\n",
       "         [0.5930],\n",
       "         [0.5741],\n",
       "         [0.6192],\n",
       "         [0.5937],\n",
       "         [0.6008],\n",
       "         [0.5702],\n",
       "         [0.6009],\n",
       "         [0.5856],\n",
       "         [0.5710],\n",
       "         [0.6118],\n",
       "         [0.6355]]], grad_fn=<SigmoidBackward0>)"
      ]
     },
     "execution_count": 26,
     "metadata": {},
     "output_type": "execute_result"
    }
   ],
   "source": [
    "import torch.nn.functional as F\n",
    "\n",
    "# apply sigmoid\n",
    "num_classes = 1\n",
    "fc = nn.Linear(hidden_size, num_classes)\n",
    "output = F.sigmoid(fc(rnn_output))\n",
    "output"
   ]
  },
  {
   "cell_type": "code",
   "execution_count": 27,
   "metadata": {},
   "outputs": [
    {
     "data": {
      "text/plain": [
       "torch.Size([1, 147, 1])"
      ]
     },
     "execution_count": 27,
     "metadata": {},
     "output_type": "execute_result"
    }
   ],
   "source": [
    "output.shape"
   ]
  },
  {
   "cell_type": "code",
   "execution_count": 31,
   "metadata": {},
   "outputs": [
    {
     "data": {
      "text/plain": [
       "tensor([0.5391, 0.5819, 0.5665, 0.6148, 0.6380, 0.6037, 0.6214, 0.5867, 0.6271,\n",
       "        0.5970, 0.5811, 0.6245, 0.5965, 0.6299, 0.6223, 0.6097, 0.6277, 0.5999,\n",
       "        0.6123, 0.5771, 0.5710, 0.5716, 0.5958, 0.5855, 0.5630, 0.6039, 0.6105,\n",
       "        0.6038, 0.6015, 0.6264, 0.6256, 0.6313, 0.6771, 0.6078, 0.6211, 0.6158,\n",
       "        0.6320, 0.6287, 0.6208, 0.5965, 0.6014, 0.5621, 0.6119, 0.5912, 0.6047,\n",
       "        0.6086, 0.5700, 0.5756, 0.5974, 0.5973, 0.6186, 0.5812, 0.5600, 0.5516,\n",
       "        0.5983, 0.5743, 0.6134, 0.6044, 0.6276, 0.5986, 0.5964, 0.6179, 0.6285,\n",
       "        0.6377, 0.6167, 0.6073, 0.5895, 0.5587, 0.5820, 0.5898, 0.6146, 0.5729,\n",
       "        0.5572, 0.6006, 0.6316, 0.5767, 0.6043, 0.5716, 0.6122, 0.6153, 0.6030,\n",
       "        0.5789, 0.6164, 0.6061, 0.5890, 0.6042, 0.6064, 0.5820, 0.5776, 0.5541,\n",
       "        0.6006, 0.6239, 0.6368, 0.6013, 0.6313, 0.5938, 0.5720, 0.5767, 0.5654,\n",
       "        0.5905, 0.6176, 0.6402, 0.5888, 0.5715, 0.5909, 0.5802, 0.5825, 0.5948,\n",
       "        0.5655, 0.5630, 0.6059, 0.5852, 0.6038, 0.6205, 0.6310, 0.5930, 0.5666,\n",
       "        0.5603, 0.5833, 0.5773, 0.5979, 0.5799, 0.6091, 0.6144, 0.6104, 0.6071,\n",
       "        0.5697, 0.5934, 0.5982, 0.6101, 0.6297, 0.6337, 0.5994, 0.6335, 0.5935,\n",
       "        0.5857, 0.5930, 0.5741, 0.6192, 0.5937, 0.6008, 0.5702, 0.6009, 0.5856,\n",
       "        0.5710, 0.6118, 0.6355], grad_fn=<SqueezeBackward0>)"
      ]
     },
     "execution_count": 31,
     "metadata": {},
     "output_type": "execute_result"
    }
   ],
   "source": [
    "# get the probability\n",
    "output.squeeze()"
   ]
  },
  {
   "cell_type": "code",
   "execution_count": null,
   "metadata": {},
   "outputs": [],
   "source": []
  },
  {
   "cell_type": "code",
   "execution_count": 32,
   "metadata": {},
   "outputs": [
    {
     "data": {
      "image/png": "[encoded data removed]",
      "text/plain": [
       "<Figure size 640x480 with 1 Axes>"
      ]
     },
     "metadata": {},
     "output_type": "display_data"
    }
   ],
   "source": [
    "# plot histogram\n",
    "import matplotlib.pyplot as plt\n",
    "\n",
    "plt.hist(output.detach().numpy().flatten())\n",
    "plt.show()"
   ]
  },
  {
   "cell_type": "code",
   "execution_count": null,
   "metadata": {},
   "outputs": [],
   "source": []
  },
  {
   "cell_type": "code",
   "execution_count": null,
   "metadata": {},
   "outputs": [],
   "source": []
  }
 ],
 "metadata": {
  "kernelspec": {
   "display_name": "AIMA05",
   "language": "python",
   "name": "python3"
  },
  "language_info": {
   "codemirror_mode": {
    "name": "ipython",
    "version": 3
   },
   "file_extension": ".py",
   "mimetype": "text/x-python",
   "name": "python",
   "nbconvert_exporter": "python",
   "pygments_lexer": "ipython3",
   "version": "3.10.16"
  }
 },
 "nbformat": 4,
 "nbformat_minor": 2
}
